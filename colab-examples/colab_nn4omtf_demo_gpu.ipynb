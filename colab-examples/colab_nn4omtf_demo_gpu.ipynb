{
  "nbformat": 4,
  "nbformat_minor": 0,
  "metadata": {
    "colab": {
      "name": "colab-nn4omtf-demo-gpu.ipynb",
      "version": "0.3.2",
      "views": {},
      "default_view": {},
      "provenance": [
        {
          "file_id": "1p5W_wOO_GePgi8gD5aRs5uhDWGEb6_1D",
          "timestamp": 1531423673316
        }
      ],
      "collapsed_sections": []
    },
    "kernelspec": {
      "name": "python3",
      "display_name": "Python 3"
    },
    "accelerator": "GPU"
  },
  "cells": [
    {
      "metadata": {
        "id": "FWkHV0XJ-nLL",
        "colab_type": "code",
        "colab": {
          "autoexec": {
            "startup": false,
            "wait_interval": 0
          }
        }
      },
      "cell_type": "code",
      "source": [
        "# Download packages\n",
        "!git clone https://github.com/jlysiak/fuw-nn4omtf.git\n",
        "!git clone https://github.com/jlysiak/fuw-nn4omtf-cli.git\n",
        "!git clone https://github.com/jlysiak/fuw-nn4omtf-demo.git"
      ],
      "execution_count": 0,
      "outputs": []
    },
    {
      "metadata": {
        "id": "USwyCCih-5G1",
        "colab_type": "code",
        "colab": {
          "autoexec": {
            "startup": false,
            "wait_interval": 0
          }
        }
      },
      "cell_type": "code",
      "source": [
        "# See what we have\n",
        "!ls"
      ],
      "execution_count": 0,
      "outputs": []
    },
    {
      "metadata": {
        "id": "_WWeeiNQ_HiG",
        "colab_type": "code",
        "colab": {
          "autoexec": {
            "startup": false,
            "wait_interval": 0
          }
        }
      },
      "cell_type": "code",
      "source": [
        "# Install nn4omtf package and dependencies\n",
        "!cd fuw-nn4omtf/ && make install-gpu"
      ],
      "execution_count": 0,
      "outputs": []
    },
    {
      "metadata": {
        "id": "60gdvvcJIq0_",
        "colab_type": "code",
        "colab": {
          "autoexec": {
            "startup": false,
            "wait_interval": 0
          }
        }
      },
      "cell_type": "code",
      "source": [
        "# Install nn4omtf-cli \n",
        "!cd fuw-nn4omtf-cli/ && ./install\n"
      ],
      "execution_count": 0,
      "outputs": []
    },
    {
      "metadata": {
        "id": "i1j-ygdE-Ov0",
        "colab_type": "code",
        "colab": {
          "autoexec": {
            "startup": false,
            "wait_interval": 0
          }
        }
      },
      "cell_type": "code",
      "source": [
        "# Export paths \n",
        "# This workaround is required due to we work now inside jupyter notebook session\n",
        "import os\n",
        "os.environ['PATH'] = os.environ['PATH'] + ':/content/.nn4omtf_cli/'"
      ],
      "execution_count": 0,
      "outputs": []
    },
    {
      "metadata": {
        "id": "XdM1byHS8rSv",
        "colab_type": "code",
        "colab": {
          "autoexec": {
            "startup": false,
            "wait_interval": 0
          }
        }
      },
      "cell_type": "code",
      "source": [
        "!cd fuw-nn4omtf-demo && make 2-create-model"
      ],
      "execution_count": 0,
      "outputs": []
    },
    {
      "metadata": {
        "id": "ktE9aXHq9AcR",
        "colab_type": "code",
        "colab": {
          "autoexec": {
            "startup": false,
            "wait_interval": 0
          }
        }
      },
      "cell_type": "code",
      "source": [
        "!cd fuw-nn4omtf-demo && make 3-train-model"
      ],
      "execution_count": 0,
      "outputs": []
    },
    {
      "metadata": {
        "id": "N_ALeoDa9Ese",
        "colab_type": "code",
        "colab": {
          "autoexec": {
            "startup": false,
            "wait_interval": 0
          }
        }
      },
      "cell_type": "code",
      "source": [
        "!cd fuw-nn4omtf-demo && make 4-test-model"
      ],
      "execution_count": 0,
      "outputs": []
    }
  ]
}