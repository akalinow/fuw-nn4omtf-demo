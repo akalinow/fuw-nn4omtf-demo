{
  "nbformat": 4,
  "nbformat_minor": 0,
  "metadata": {
    "colab": {
      "name": "colab-nn4omtf-demo-cpu.ipynb",
      "version": "0.3.2",
      "views": {},
      "default_view": {},
      "provenance": [
        {
          "file_id": "1RiZSGynSVZNJ9A8xSap41O3ELMiVrjKw",
          "timestamp": 1531488546386
        },
        {
          "file_id": "1p5W_wOO_GePgi8gD5aRs5uhDWGEb6_1D",
          "timestamp": 1531423673316
        }
      ],
      "collapsed_sections": []
    },
    "kernelspec": {
      "name": "python3",
      "display_name": "Python 3"
    }
  },
  "cells": [
    {
      "metadata": {
        "id": "0v3ctlNtuqiT",
        "colab_type": "text"
      },
      "cell_type": "markdown",
      "source": [
        "# Google CoLab demo\n",
        "## Working with nn4omtf package\n",
        "\n",
        "Download this notebook into your drive and go through it in your CoLab session.\n"
      ]
    },
    {
      "metadata": {
        "id": "IGUDaSYsxXO0",
        "colab_type": "code",
        "colab": {
          "autoexec": {
            "startup": false,
            "wait_interval": 0
          }
        }
      },
      "cell_type": "code",
      "source": [
        "# See what we have under the hood :)\n",
        "!lscpu"
      ],
      "execution_count": 0,
      "outputs": []
    },
    {
      "metadata": {
        "id": "hI5xsdED1pU_",
        "colab_type": "code",
        "colab": {
          "autoexec": {
            "startup": false,
            "wait_interval": 0
          }
        }
      },
      "cell_type": "code",
      "source": [
        "!free -h"
      ],
      "execution_count": 0,
      "outputs": []
    },
    {
      "metadata": {
        "id": "GTdfqG3w1sFx",
        "colab_type": "code",
        "colab": {
          "autoexec": {
            "startup": false,
            "wait_interval": 0
          }
        }
      },
      "cell_type": "code",
      "source": [
        "!df / -h"
      ],
      "execution_count": 0,
      "outputs": []
    },
    {
      "metadata": {
        "id": "FWkHV0XJ-nLL",
        "colab_type": "code",
        "colab": {
          "autoexec": {
            "startup": false,
            "wait_interval": 0
          }
        }
      },
      "cell_type": "code",
      "source": [
        "# Download required packages\n",
        "!git clone https://github.com/jlysiak/fuw-nn4omtf.git\n",
        "!git clone https://github.com/jlysiak/fuw-nn4omtf-cli.git\n",
        "!git clone https://github.com/jlysiak/fuw-nn4omtf-demo.git"
      ],
      "execution_count": 0,
      "outputs": []
    },
    {
      "metadata": {
        "id": "USwyCCih-5G1",
        "colab_type": "code",
        "colab": {
          "autoexec": {
            "startup": false,
            "wait_interval": 0
          }
        }
      },
      "cell_type": "code",
      "source": [
        "# See what we have\n",
        "!ls"
      ],
      "execution_count": 0,
      "outputs": []
    },
    {
      "metadata": {
        "id": "_WWeeiNQ_HiG",
        "colab_type": "code",
        "colab": {
          "autoexec": {
            "startup": false,
            "wait_interval": 0
          }
        }
      },
      "cell_type": "code",
      "source": [
        "# Install nn4omtf package and dependencies.\n",
        "# `make tf=cpu` starts installation of TensorFlow package\n",
        "# but CoLab has appropriate TF version installed, so run `make nn4omtf` only.\n",
        "!cd fuw-nn4omtf/ && make nn4omtf"
      ],
      "execution_count": 0,
      "outputs": []
    },
    {
      "metadata": {
        "id": "60gdvvcJIq0_",
        "colab_type": "code",
        "colab": {
          "autoexec": {
            "startup": false,
            "wait_interval": 0
          }
        }
      },
      "cell_type": "code",
      "source": [
        "# Install nn4omtf-cli \n",
        "!cd fuw-nn4omtf-cli/ && ./install"
      ],
      "execution_count": 0,
      "outputs": []
    },
    {
      "metadata": {
        "id": "i1j-ygdE-Ov0",
        "colab_type": "code",
        "colab": {
          "autoexec": {
            "startup": false,
            "wait_interval": 0
          }
        }
      },
      "cell_type": "code",
      "source": [
        "# Export paths \n",
        "# This workaround is required due to we work now inside jupyter notebook session\n",
        "import os\n",
        "os.environ['PATH'] = os.environ['PATH'] + ':/content/.nn4omtf_cli/'"
      ],
      "execution_count": 0,
      "outputs": []
    },
    {
      "metadata": {
        "id": "q9nCZb5GwMrf",
        "colab_type": "text"
      },
      "cell_type": "markdown",
      "source": [
        "Everything installed.\n",
        "\n",
        "Now go to `fuw-nn4omtf-demo` and check `Makefile` contents.  \n",
        "There are commands to create, train and test model.  \n",
        "This demo repo has datasets to perform all model's developement stages.\n",
        "\n",
        "To see exact commads read `Makefile`.   \n",
        "Run scripts with `--help` flag to see more info."
      ]
    },
    {
      "metadata": {
        "id": "p0lWoVPPxk1H",
        "colab_type": "code",
        "colab": {
          "autoexec": {
            "startup": false,
            "wait_interval": 0
          }
        }
      },
      "cell_type": "code",
      "source": [
        "!cat fuw-nn4omtf-demo/Makefile"
      ],
      "execution_count": 0,
      "outputs": []
    },
    {
      "metadata": {
        "id": "XdM1byHS8rSv",
        "colab_type": "code",
        "colab": {
          "autoexec": {
            "startup": false,
            "wait_interval": 0
          }
        }
      },
      "cell_type": "code",
      "source": [
        "!cd fuw-nn4omtf-demo && make 2-create-model"
      ],
      "execution_count": 0,
      "outputs": []
    },
    {
      "metadata": {
        "id": "bYyhbFZyzFw2",
        "colab_type": "code",
        "colab": {
          "autoexec": {
            "startup": false,
            "wait_interval": 0
          }
        }
      },
      "cell_type": "code",
      "source": [
        "# See how network builder code looks like\n",
        "!cat fuw-nn4omtf-demo/test-model/builder.py"
      ],
      "execution_count": 0,
      "outputs": []
    },
    {
      "metadata": {
        "id": "ktE9aXHq9AcR",
        "colab_type": "code",
        "colab": {
          "autoexec": {
            "startup": false,
            "wait_interval": 0
          }
        }
      },
      "cell_type": "code",
      "source": [
        "# Run training using CPU\n",
        "!cd fuw-nn4omtf-demo && make 3-train-model"
      ],
      "execution_count": 0,
      "outputs": []
    },
    {
      "metadata": {
        "id": "N_ALeoDa9Ese",
        "colab_type": "code",
        "colab": {
          "autoexec": {
            "startup": false,
            "wait_interval": 0
          }
        }
      },
      "cell_type": "code",
      "source": [
        "# Evaluate trained model\n",
        "!cd fuw-nn4omtf-demo && make 4-test-model"
      ],
      "execution_count": 0,
      "outputs": []
    },
    {
      "metadata": {
        "id": "g5ZMn5cAxejK",
        "colab_type": "code",
        "colab": {
          "autoexec": {
            "startup": false,
            "wait_interval": 0
          }
        }
      },
      "cell_type": "code",
      "source": [
        "# Output logits are saved here\n",
        "!ls fuw-nn4omtf-demo/test-model/test-outputs/"
      ],
      "execution_count": 0,
      "outputs": []
    },
    {
      "metadata": {
        "id": "sdbHBi-pzcld",
        "colab_type": "code",
        "colab": {
          "autoexec": {
            "startup": false,
            "wait_interval": 0
          }
        }
      },
      "cell_type": "code",
      "source": [
        "# Statistics and plots will be available later..."
      ],
      "execution_count": 0,
      "outputs": []
    }
  ]
}