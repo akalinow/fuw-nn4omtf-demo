{
  "nbformat": 4,
  "nbformat_minor": 0,
  "metadata": {
    "colab": {
      "name": "nn4omtf-demo.ipynb",
      "version": "0.3.2",
      "views": {},
      "default_view": {},
      "provenance": [],
      "collapsed_sections": []
    },
    "kernelspec": {
      "name": "python3",
      "display_name": "Python 3"
    }
  },
  "cells": [
    {
      "metadata": {
        "id": "FWkHV0XJ-nLL",
        "colab_type": "code",
        "colab": {
          "autoexec": {
            "startup": false,
            "wait_interval": 0
          }
        }
      },
      "cell_type": "code",
      "source": [
        "# Download packages\n",
        "!git clone https://github.com/jlysiak/fuw-nn4omtf.git\n",
        "!git clone https://github.com/jlysiak/fuw-nn4omtf-cli.git\n",
        "!git clone https://github.com/jlysiak/fuw-nn4omtf-demo.git"
      ],
      "execution_count": 0,
      "outputs": []
    },
    {
      "metadata": {
        "id": "USwyCCih-5G1",
        "colab_type": "code",
        "colab": {
          "autoexec": {
            "startup": false,
            "wait_interval": 0
          }
        }
      },
      "cell_type": "code",
      "source": [
        "# See what we have\n",
        "!ls"
      ],
      "execution_count": 0,
      "outputs": []
    },
    {
      "metadata": {
        "id": "_WWeeiNQ_HiG",
        "colab_type": "code",
        "colab": {
          "autoexec": {
            "startup": false,
            "wait_interval": 0
          }
        }
      },
      "cell_type": "code",
      "source": [
        "# Install nn4omtf package and dependencies\n",
        "!cd fuw-nn4omtf/ && make install-cpu"
      ],
      "execution_count": 0,
      "outputs": []
    },
    {
      "metadata": {
        "id": "60gdvvcJIq0_",
        "colab_type": "code",
        "colab": {
          "autoexec": {
            "startup": false,
            "wait_interval": 0
          }
        }
      },
      "cell_type": "code",
      "source": [
        "# Install nn4omtf-cli \n",
        "!cd fuw-nn4omtf-cli/ && ./install && . ~/.bashrc\n",
        "\n",
        "import os\n",
        "os.environ['PATH'] = os.environ['PATH'] + ':/content/.nn4omtf_cli/'"
      ],
      "execution_count": 0,
      "outputs": []
    },
    {
      "metadata": {
        "id": "XdM1byHS8rSv",
        "colab_type": "code",
        "colab": {
          "autoexec": {
            "startup": false,
            "wait_interval": 0
          }
        }
      },
      "cell_type": "code",
      "source": [
        "!cd fuw-nn4omtf-demo && make 2-create-model"
      ],
      "execution_count": 0,
      "outputs": []
    },
    {
      "metadata": {
        "id": "ktE9aXHq9AcR",
        "colab_type": "code",
        "colab": {
          "autoexec": {
            "startup": false,
            "wait_interval": 0
          }
        }
      },
      "cell_type": "code",
      "source": [
        "!cd fuw-nn4omtf-demo && make 3-train-model"
      ],
      "execution_count": 0,
      "outputs": []
    },
    {
      "metadata": {
        "id": "N_ALeoDa9Ese",
        "colab_type": "code",
        "colab": {
          "autoexec": {
            "startup": false,
            "wait_interval": 0
          }
        }
      },
      "cell_type": "code",
      "source": [
        "!cd fuw-nn4omtf-demo && make 4-test-model"
      ],
      "execution_count": 0,
      "outputs": []
    }
  ]
}